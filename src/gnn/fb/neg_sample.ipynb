{
 "cells": [
  {
   "cell_type": "code",
   "execution_count": 3,
   "id": "0bcd241e",
   "metadata": {},
   "outputs": [],
   "source": [
    "import os\n",
    "import networkx as nx\n",
    "from torch_geometric.utils import from_networkx, negative_sampling"
   ]
  },
  {
   "cell_type": "code",
   "execution_count": null,
   "id": "73b64a7e",
   "metadata": {},
   "outputs": [
    {
     "ename": "AssertionError",
     "evalue": "Can't find path",
     "output_type": "error",
     "traceback": [
      "\u001b[31m---------------------------------------------------------------------------\u001b[39m",
      "\u001b[31mAssertionError\u001b[39m                            Traceback (most recent call last)",
      "\u001b[36mCell\u001b[39m\u001b[36m \u001b[39m\u001b[32mIn[4]\u001b[39m\u001b[32m, line 9\u001b[39m\n\u001b[32m      6\u001b[39m     \u001b[38;5;28;01mreturn\u001b[39;00m G\n\u001b[32m      8\u001b[39m file_path = \u001b[33m\"\u001b[39m\u001b[33mfacebook_combined.txt\u001b[39m\u001b[33m\"\u001b[39m\n\u001b[32m----> \u001b[39m\u001b[32m9\u001b[39m \u001b[38;5;28;01massert\u001b[39;00m os.path.exists(file_path), \u001b[33m\"\u001b[39m\u001b[33mCan\u001b[39m\u001b[33m'\u001b[39m\u001b[33mt find path\u001b[39m\u001b[33m\"\u001b[39m\n\u001b[32m     10\u001b[39m G = load_edge_list(file_path)\n\u001b[32m     11\u001b[39m data = from_networkx(G)\n",
      "\u001b[31mAssertionError\u001b[39m: Can't find path"
     ]
    }
   ],
   "source": [
    "def load_edge_list(file_path, directed=False):\n",
    "    if directed:\n",
    "        G = nx.read_edgelist(file_path, nodetype=int, create_using=nx.DiGraph())\n",
    "    else:\n",
    "        G = nx.read_edgelist(file_path, nodetype=int)\n",
    "    return G\n",
    "\n",
    "file_path = \"../../../data/facebook_combined.txt\"\n",
    "assert os.path.exists(file_path), \"Can't find path\"\n",
    "G = load_edge_list(file_path)\n",
    "data = from_networkx(G)"
   ]
  },
  {
   "cell_type": "code",
   "execution_count": null,
   "id": "9859b1aa",
   "metadata": {},
   "outputs": [],
   "source": [
    "neg_edge_index = negative_sampling(\n",
    "    edge_index=data.edge_index,   # existing edges\n",
    "    num_nodes=data.num_nodes,     # number of nodes\n",
    "    num_neg_samples=None,         # how many negatives, default = same as positive edges\n",
    "    method=\"sparse\"               # \"sparse\" (default) or \"dense\"\n",
    ")"
   ]
  }
 ],
 "metadata": {
  "kernelspec": {
   "display_name": "dl",
   "language": "python",
   "name": "python3"
  },
  "language_info": {
   "codemirror_mode": {
    "name": "ipython",
    "version": 3
   },
   "file_extension": ".py",
   "mimetype": "text/x-python",
   "name": "python",
   "nbconvert_exporter": "python",
   "pygments_lexer": "ipython3",
   "version": "3.12.11"
  }
 },
 "nbformat": 4,
 "nbformat_minor": 5
}
