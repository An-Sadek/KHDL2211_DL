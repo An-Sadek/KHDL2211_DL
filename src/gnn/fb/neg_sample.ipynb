{
 "cells": [
  {
   "cell_type": "code",
   "execution_count": 3,
   "id": "0bcd241e",
   "metadata": {},
   "outputs": [],
   "source": [
    "import os\n",
    "import networkx as nx\n",
    "from torch_geometric.utils import from_networkx, negative_sampling"
   ]
  },
  {
   "cell_type": "code",
   "execution_count": 5,
   "id": "73b64a7e",
   "metadata": {},
   "outputs": [],
   "source": [
    "def load_edge_list(file_path, directed=False):\n",
    "    if directed:\n",
    "        G = nx.read_edgelist(file_path, nodetype=int, create_using=nx.DiGraph())\n",
    "    else:\n",
    "        G = nx.read_edgelist(file_path, nodetype=int)\n",
    "    return G\n",
    "\n",
    "file_path = \"../../../data/facebook_combined.txt\"\n",
    "assert os.path.exists(file_path), \"Can't find path\"\n",
    "G = load_edge_list(file_path)\n",
    "data = from_networkx(G)"
   ]
  },
  {
   "cell_type": "code",
   "execution_count": 6,
   "id": "9859b1aa",
   "metadata": {},
   "outputs": [],
   "source": [
    "neg_edge_index = negative_sampling(\n",
    "    edge_index=data.edge_index,   # existing edges\n",
    "    num_nodes=data.num_nodes,     # number of nodes\n",
    "    num_neg_samples=None,         # how many negatives, default = same as positive edges\n",
    "    method=\"sparse\"               # \"sparse\" (default) or \"dense\"\n",
    ")"
   ]
  },
  {
   "cell_type": "code",
   "execution_count": 8,
   "id": "4ef95183",
   "metadata": {},
   "outputs": [
    {
     "data": {
      "text/plain": [
       "tensor([[1741, 2979, 1338,  ..., 2016,  631, 2454],\n",
       "        [ 314, 3085,  800,  ..., 2224,  477,  567]])"
      ]
     },
     "execution_count": 8,
     "metadata": {},
     "output_type": "execute_result"
    }
   ],
   "source": [
    "neg_edge_index"
   ]
  }
 ],
 "metadata": {
  "kernelspec": {
   "display_name": "dl",
   "language": "python",
   "name": "python3"
  },
  "language_info": {
   "codemirror_mode": {
    "name": "ipython",
    "version": 3
   },
   "file_extension": ".py",
   "mimetype": "text/x-python",
   "name": "python",
   "nbconvert_exporter": "python",
   "pygments_lexer": "ipython3",
   "version": "3.12.11"
  }
 },
 "nbformat": 4,
 "nbformat_minor": 5
}
